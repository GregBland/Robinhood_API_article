{
 "cells": [
  {
   "cell_type": "code",
   "execution_count": null,
   "metadata": {},
   "outputs": [],
   "source": [
    "from IPython.core.interactiveshell import InteractiveShell\n",
    "InteractiveShell.ast_node_interactivity = \"all\""
   ]
  },
  {
   "cell_type": "code",
   "execution_count": null,
   "metadata": {},
   "outputs": [],
   "source": [
    "import robin_stocks as rs"
   ]
  },
  {
   "cell_type": "code",
   "execution_count": null,
   "metadata": {},
   "outputs": [],
   "source": [
    "# basic login\n",
    "rs.login(username=your_username,\n",
    "         password=your_password,\n",
    "         expiresIn=86400,\n",
    "         by_sms=True)"
   ]
  },
  {
   "cell_type": "code",
   "execution_count": null,
   "metadata": {},
   "outputs": [],
   "source": [
    "# syntax for setting environment variables in terminal on Mac/Linux\n",
    "\n",
    "export robinhood_username=\"your_username_here\"\n",
    "export robinhood_password=\"your_password_here\""
   ]
  },
  {
   "cell_type": "code",
   "execution_count": null,
   "metadata": {},
   "outputs": [],
   "source": [
    "# syntax for setting environment variables in command prompt on Windows\n",
    "\n",
    "set robinhood_username=your_username_here\n",
    "set robinhood_password=your_password_here"
   ]
  },
  {
   "cell_type": "code",
   "execution_count": null,
   "metadata": {},
   "outputs": [],
   "source": [
    "# login with environment variables\n",
    "\n",
    "import os \n",
    "\n",
    "robin_user = os.environ.get(\"robinhood_username\")\n",
    "robin_pass = os.environ.get(\"robinhood_password\")\n",
    "\n",
    "rs.login(username=robin_user,\n",
    "         password=robin_pass,\n",
    "         expiresIn=86400,\n",
    "         by_sms=True)"
   ]
  },
  {
   "cell_type": "code",
   "execution_count": null,
   "metadata": {},
   "outputs": [],
   "source": [
    "# logout\n",
    "\n",
    "rs.logout()"
   ]
  },
  {
   "cell_type": "code",
   "execution_count": null,
   "metadata": {},
   "outputs": [],
   "source": [
    "# market buy by dollar amount (stocks)\n",
    "\n",
    "rs.orders.order_buy_fractional_by_price(symbol,\n",
    "                                       ammountInDollars,\n",
    "                                       timeInForce='gtc',\n",
    "                                       extendedHours=False) "
   ]
  },
  {
   "cell_type": "code",
   "execution_count": null,
   "metadata": {},
   "outputs": [],
   "source": [
    "# example \n",
    "\n",
    "rs.orders.order_buy_fractional_by_price('AAPL', 500, timeInForce='gtc', extendedHours=False)\n"
   ]
  },
  {
   "cell_type": "code",
   "execution_count": null,
   "metadata": {},
   "outputs": [],
   "source": [
    "# market buy by integer/fraction quantity of shares (stocks)\n",
    "\n",
    "rs.orders.order_buy_fractional_by_quantity(symbol,\n",
    "                                          quantity,\n",
    "                                          timeInForce='gtc',\n",
    "                                          extendedHours=False)"
   ]
  },
  {
   "cell_type": "code",
   "execution_count": null,
   "metadata": {},
   "outputs": [],
   "source": [
    "# limit buy of stocks\n",
    "\n",
    "rs.orders.order_buy_limit(symbol,\n",
    "                          quantity,\n",
    "                          limitPrice,\n",
    "                          timeInForce='gtc',\n",
    "                          extendedHours=False)"
   ]
  },
  {
   "cell_type": "code",
   "execution_count": null,
   "metadata": {},
   "outputs": [],
   "source": [
    "# example\n",
    "\n",
    "rs.orders.order_buy_limit('AAPL,\n",
    "                          5,\n",
    "                          450,\n",
    "                          timeInForce='gtc',\n",
    "                          extendedHours=False)"
   ]
  },
  {
   "cell_type": "code",
   "execution_count": null,
   "metadata": {},
   "outputs": [],
   "source": [
    "# market buy crypto by dollar amount example\n",
    "\n",
    "rs.orders.order_buy_crypto_by_price('ETH', \n",
    "                                 1000,\n",
    "                                 timeInForce='gtc')"
   ]
  },
  {
   "cell_type": "code",
   "execution_count": null,
   "metadata": {},
   "outputs": [],
   "source": [
    "# market buy crypto by fractional quantity amount example\n",
    "\n",
    "rs.orders.order_buy_crypto_by_quantity('ETH', \n",
    "                                 15.9,\n",
    "                                 timeInForce='gtc')\n"
   ]
  },
  {
   "cell_type": "code",
   "execution_count": null,
   "metadata": {},
   "outputs": [],
   "source": [
    "# limit buy crypto example\n",
    "\n",
    "rs.orders.order_buy_crypto_limit('BTC', \n",
    "                                 0.5,\n",
    "                                 5000,\n",
    "                                 timeInForce='gtc')"
   ]
  },
  {
   "cell_type": "code",
   "execution_count": null,
   "metadata": {},
   "outputs": [],
   "source": [
    "# limit buy options\n",
    "\n",
    "rs.orders.order_buy_option_limit(positionEffect, \n",
    "                                 creditOrDebit, \n",
    "                                 price, \n",
    "                                 symbol,\n",
    "                                 quantity,\n",
    "                                 expirationDate, \n",
    "                                 strike, \n",
    "                                 optionType='both', \n",
    "                                 timeInForce='gtc')"
   ]
  },
  {
   "cell_type": "code",
   "execution_count": null,
   "metadata": {},
   "outputs": [],
   "source": [
    "# limit buy options example\n",
    "\n",
    "rs.orders.order_buy_option_limit('open',\n",
    "                                 'debit',\n",
    "                                 350,\n",
    "                                 \"AAPL\",\n",
    "                                 1,\n",
    "                                 '2020-07-17', \n",
    "                                 400,\n",
    "                                 optionType='call',\n",
    "                                 timeInForce='gtc')"
   ]
  },
  {
   "cell_type": "code",
   "execution_count": null,
   "metadata": {},
   "outputs": [],
   "source": [
    "from time import sleep\n",
    "import pandas as pd"
   ]
  },
  {
   "cell_type": "code",
   "execution_count": null,
   "metadata": {},
   "outputs": [],
   "source": [
    "# place order for Visa when Mastercard hits certain price FULL EXAMPLE\n",
    "\n",
    "while True:\n",
    "    try:\n",
    "        price = rs.stocks.get_latest_price('MA', includeExtendedHours=True)\n",
    "        # assigning price to first (and only) item of list and converting from str to float\n",
    "        mastercard_price = float(price[0])\n",
    "        \n",
    "        if mastercard_price < 280:\n",
    "            try:\n",
    "                rs.orders.order_buy_fractional_by_price('V', 500)\n",
    "                break\n",
    "                \n",
    "            except Exception as e:\n",
    "                print(\"Error placing order:\", e)\n",
    "        else:\n",
    "            sleep(15)\n",
    "                \n",
    "    except Exception as e:\n",
    "        print(\"Error fetching latest price:\", e)\n",
    "        \n",
    "print(\"ORDER TRIGGERED at {}\".format(pd.Timestamp.now()))\n",
    "        "
   ]
  },
  {
   "cell_type": "code",
   "execution_count": null,
   "metadata": {},
   "outputs": [],
   "source": [
    "np.random.randint(low, high=None)\n"
   ]
  },
  {
   "cell_type": "code",
   "execution_count": null,
   "metadata": {},
   "outputs": [],
   "source": [
    "# place order for Visa when Mastercard moves more than 1% in last hour FULL EXAMPLE\n",
    "\n",
    "df = pd.DataFrame(columns=['date', 'price'])\n",
    "\n",
    "while True:\n",
    "    try:\n",
    "        price = rs.stocks.get_latest_price('MA', includeExtendedHours=True)\n",
    "        # assigning price to first (and only) item of list and converting from str to float\n",
    "        mastercard_price = float(price[0])\n",
    "        \n",
    "        df.loc[len(df)] = [pd.Timestamp.now(), mastercard_price]\n",
    "        \n",
    "        start_time = df.date.iloc[-1] - pd.Timedelta(minutes=60)\n",
    "        df = df.loc[df.date >= start_time] # cuts dataframe to only include last hour of data\n",
    "        max_price = df.price.max()\n",
    "        min_price = df.price.min()\n",
    "        \n",
    "        if df.price.iloc[-1] < max_price * 0.99:\n",
    "            try:\n",
    "                rs.orders.order_buy_fractional_by_price('V', 500)\n",
    "                print(\"DROPPED 1%, CURRENT PRICE: {} MAX PRICE: {}\".format(df.price.iloc[-1], max_price))\n",
    "                break\n",
    "                \n",
    "            except Exception as e:\n",
    "                print(\"Error placing order:\", e)\n",
    "                \n",
    "        elif df.price.iloc[-1] > min_price * 1.01:\n",
    "            try:\n",
    "                rs.orders.order_sell_fractional_by_price('V', 500)\n",
    "                print(\"RISEN 1%, CURRENT PRICE: {} MIN PRICE: {}\".format(df.price.iloc[-1], min_price))\n",
    "                break\n",
    "                \n",
    "            except Exception as e:\n",
    "                print(\"Error placing order:\", e)\n",
    "        \n",
    "        else:\n",
    "            print(\"NO ORDER, CURRENT PRICE: {} MIN PRICE: {} MAX PRICE: {}\\n\".format(df.price.iloc[-1], min_price, max_price))\n",
    "            sleep(15)\n",
    "                \n",
    "    except Exception as e:\n",
    "        print(\"Error fetching latest price:\", e)\n",
    "        \n",
    "print(\"ORDER TRIGGERED at {}\".format(pd.Timestamp.now()))\n",
    "        \n",
    " "
   ]
  },
  {
   "cell_type": "code",
   "execution_count": null,
   "metadata": {},
   "outputs": [],
   "source": [
    "# firing a pair trade when Dropbox and box diverge more than 3% over the previous day FULL EXAMPLE\n",
    "\n",
    "dropbox_data = rs.stocks.get_stock_historicals(\"DBX\", interval=\"day\", span=\"week\")\n",
    "dropbox_historical = pd.DataFrame(dropbox_data)\n",
    "\n",
    "box_data = rs.stocks.get_stock_historicals(\"BOX\", interval=\"day\", span=\"week\")\n",
    "box_historical = pd.DataFrame(box_data)\n",
    "\n",
    "price_diff_yesterday = dropbox_historical.iloc[-1]['close_price'] - box_historical.iloc[-1]['close_price']\n",
    "\n",
    "while True:\n",
    "    try:\n",
    "        dropbox_today = float(rs.stocks.get_latest_price('DBX', includeExtendedHours=True)[0])\n",
    "        box_today = float(rs.stocks.get_latest_price('BOX', includeExtendedHours=True)[0])\n",
    "        print(\"box today:\", box_today)\n",
    "        print(\"dropbox today:\", dropbox_today)\n",
    "\n",
    "        price_diff_today = dropbox_today - box_today\n",
    "\n",
    "        if price_diff_today > 1.03 * price_diff_yesterday:\n",
    "            try:\n",
    "                # LONG BOX SHORT DROPBOX\n",
    "                rs.orders.order_buy_fractional_by_price('BOX',\n",
    "                                           500,\n",
    "                                           timeInForce='gtc',\n",
    "                                           extendedHours=False) \n",
    "\n",
    "                rs.orders.order_sell_fractional_by_price('DBX',            \n",
    "                                           500,\n",
    "                                           timeInForce='gtc',\n",
    "                                           extendedHours=False) \n",
    "\n",
    "                print(\"Diverged MORE THAN 3%, YESTERDAY'S DIFFERENCE: {} TODAY'S DIFFERENCE: {} PERCENTAGE CHANGE: {}%\\n\".format(price_diff_yesterday, price_diff_today, (price_diff_today/price_diff_yesterday - 1)*100))\n",
    "                break\n",
    "            except Exception as e:\n",
    "                print(\"Error placing orders:\", e)\n",
    "                sleep(15)\n",
    "\n",
    "\n",
    "        else:\n",
    "            print(\"STILL WAITING, YESTERDAY'S DIFFERENCE: {} TODAY'S DIFFERENCE: {} PERCENTAGE CHANGE: {}%\\n\".format(price_diff_yesterday, price_diff_today, ((price_diff_today/price_diff_yesterday - 1))*100))\n",
    "            sleep(15)\n",
    "    except Exception as e:\n",
    "        print(\"Error fetching latest prices:\", e)\n",
    "        sleep(15)\n",
    "\n",
    "print(\"ORDER TRIGGERED at {}\".format(pd.Timestamp.now()))\n",
    "\n",
    " \n",
    "    "
   ]
  },
  {
   "cell_type": "code",
   "execution_count": null,
   "metadata": {},
   "outputs": [],
   "source": [
    "# buy Tesla call option when Tesla moves more than 1% in the last hour FULL EXAMPLE\n",
    "\n",
    "df = pd.DataFrame(columns=['date', 'price'])\n",
    "\n",
    "while True:\n",
    "    try:\n",
    "        price = rs.stocks.get_latest_price('TSLA', includeExtendedHours=True)\n",
    "        # assigning price to first (and only) item of list and converting from str to float\n",
    "        tesla_price = float(price[0])\n",
    "        \n",
    "        df.loc[len(df)] = [pd.Timestamp.now(), tesla_price]\n",
    "\n",
    "        \n",
    "        start_time = df.date.iloc[-1] - pd.Timedelta(minutes=60)\n",
    "        df = df.loc[df.date >= start_time] # cuts dataframe to only include last hour of data\n",
    "        max_price = df.price.max()\n",
    "        min_price = df.price.min()\n",
    "        \n",
    "        if (df.price.iloc[-1] < max_price * 0.99 or df.price.iloc[-1] > min_price * 1.01):\n",
    "            try:\n",
    "                # finds current best bid for option contract we want to buy\n",
    "                best_bid = rs.options.find_options_by_expiration_and_strike('TSLA',\n",
    "                                                                 '2020-07-17',\n",
    "                                                                 1580,\n",
    "                                                                 optionType='call',\n",
    "                                                                 info='bid_price')\n",
    "                # converts output to float\n",
    "                best_bid = float(best_bid[0])\n",
    "                # we place our limit bid 0.1% above the current best bid\n",
    "                our_bid = 1.001 * best_bid\n",
    "                \n",
    "                rs.orders.order_buy_option_limit('open', \n",
    "                                 'debit', \n",
    "                                 our_bid, \n",
    "                                 'TSLA',\n",
    "                                 1,\n",
    "                                 '2020-07-17', \n",
    "                                 1580, \n",
    "                                 optionType='call', \n",
    "                                 timeInForce='gtc')\n",
    "                print(\"MOVED MORE THAN 1%, TESLA CURRENT PRICE: {} MIN PRICE: {} MAX PRICE: {}\\n\".format(df.price.iloc[-1], min_price, max_price))\n",
    "                break\n",
    "                \n",
    "            except Exception as e:\n",
    "                print(\"Error placing order:\", e)\n",
    "        \n",
    "        else:\n",
    "            print(\"NO ORDER, TESLA CURRENT PRICE: {} MIN PRICE: {} MAX PRICE: {}\\n\".format(df.price.iloc[-1], min_price, max_price))\n",
    "            sleep(15)\n",
    "                \n",
    "    except Exception as e:\n",
    "        print(\"Error fetching latest price:\", e)\n",
    "        \n",
    "print(\"ORDER TRIGGERED at {}\".format(pd.Timestamp.now()))\n",
    "print(\"LIMIT BUY FOR OPTION CALL PLACED AT:\", our_bid)\n",
    "        \n",
    " "
   ]
  },
  {
   "cell_type": "code",
   "execution_count": null,
   "metadata": {},
   "outputs": [],
   "source": [
    "# get options Greek Delta (or any other Greek by changing info filter) example\n",
    "\n",
    "delta = float(rs.options.get_option_market_data('TSLA',\n",
    "                                          '2020-07-17',\n",
    "                                          1580,\n",
    "                                          optionType='call',\n",
    "                                          info='delta')[0])"
   ]
  },
  {
   "cell_type": "code",
   "execution_count": null,
   "metadata": {},
   "outputs": [],
   "source": [
    "# Tesla covered call  FULL EXAMPLE\n",
    "\n",
    "ask_price = float(rs.options.find_options_by_expiration_and_strike('TSLA',\n",
    "                                                                   '2020-07-17',\n",
    "                                                                   1600,\n",
    "                                                                   optionType='call',\n",
    "                                                                   info='ask_price')[0])\n",
    "\n",
    "delta = float(rs.options.find_options_by_expiration_and_strike('TSLA',\n",
    "                                                               '2020-07-17',\n",
    "                                                               1600,\n",
    "                                                               optionType='call',\n",
    "                                                               info='delta')[0])\n",
    "\n",
    "\n",
    "rs.orders.order_sell_option_limit('open',\n",
    "                                  'credit',\n",
    "                                  ask_price,\n",
    "                                  'TSLA',\n",
    "                                  1,\n",
    "                                  '2020-07-17',\n",
    "                                  1600,\n",
    "                                  optionType='call',\n",
    "                                  timeInForce='gtc')\n",
    "\n",
    "rs.orders.order_buy_fractional_by_quantity('TSLA', 100)\n",
    "\n",
    "\n"
   ]
  },
  {
   "cell_type": "code",
   "execution_count": null,
   "metadata": {},
   "outputs": [],
   "source": [
    "# how to sell a call while buying Tesla stock in a delta-hedged manner FULL EXAMPLE\n",
    "\n",
    "ask_price = float(rs.options.find_options_by_expiration_and_strike('TSLA',\n",
    "                                                                   '2020-07-17',\n",
    "                                                                   1600,\n",
    "                                                                   optionType='call',\n",
    "                                                                   info='ask_price')[0])\n",
    "rs.orders.order_sell_option_limit('open',\n",
    "                                  'credit',\n",
    "                                  ask_price,\n",
    "                                  'TSLA',\n",
    "                                  1,\n",
    "                                  '2020-07-17',\n",
    "                                  1600,\n",
    "                                  optionType='call',\n",
    "                                  timeInForce='gtc')\n",
    "\n",
    "delta = float(rs.options.find_options_by_expiration_and_strike('TSLA',\n",
    "                                                               '2020-07-17',\n",
    "                                                               1600,\n",
    "                                                               optionType='call',\n",
    "                                                               info='delta')[0])\n",
    "\n",
    "rs.orders.order_buy_fractional_by_quantity('TSLA', delta*100)"
   ]
  },
  {
   "cell_type": "code",
   "execution_count": null,
   "metadata": {},
   "outputs": [],
   "source": [
    "# place a stoploss and cancel and replace with market sell if target reached Robinhood work-around FULL EXAMPLE\n",
    "\n",
    "rs.orders.order_buy_fractional_by_quantity('AAPL', 10)\n",
    "\n",
    "stoploss_order = rs.orders.order_sell_stop_loss('AAPL', 10, 370)\n",
    "stoploss_order_id = stoploss_order['id']\n",
    "\n",
    "while True:\n",
    "    price = rs.stocks.get_latest_price('AAPL', includeExtendedHours=True)\n",
    "    price = float(price[0]) # convert to single float\n",
    "\n",
    "    if price > 400:\n",
    "        rs.orders.cancel_stock_order(stoploss_order_id)\n",
    "        rs.orders.order_sell_market('AAPL', 10)\n",
    "        print(\"STOP LOSS CANCELLED AND MARKET SELL TRIGGERED, APPLE PRICE:\", price)\n",
    "        print(\"ORDER TRIGGERED at {}\".format(pd.Timestamp.now()))\n",
    "        break\n",
    "    \n",
    "    print(\"STILL WAITING, APPLE PRICE:\", price)\n",
    "    sleep(15)"
   ]
  },
  {
   "cell_type": "code",
   "execution_count": null,
   "metadata": {},
   "outputs": [],
   "source": [
    "# get all account positions\n",
    "\n",
    "rs.account.get_all_positions()"
   ]
  },
  {
   "cell_type": "code",
   "execution_count": null,
   "metadata": {},
   "outputs": [],
   "source": [
    "# get all open stock orders\n",
    "\n",
    "rs.orders.get_all_open_stock_orders()"
   ]
  },
  {
   "cell_type": "code",
   "execution_count": null,
   "metadata": {},
   "outputs": [],
   "source": [
    "# cancel all open stock orders\n",
    "\n",
    "rs.orders.cancel_all_stock_orders()"
   ]
  },
  {
   "cell_type": "code",
   "execution_count": null,
   "metadata": {},
   "outputs": [],
   "source": [
    "# get Tesla historical data and convert to data frame\n",
    "\n",
    "tesla_data= rs.stocks.get_stock_historicals(\"TSLA\", interval=\"10minute\", span=\"year\")\n",
    "tesla_dataframe= pd.DataFrame(tesla_data)"
   ]
  },
  {
   "cell_type": "code",
   "execution_count": null,
   "metadata": {},
   "outputs": [],
   "source": [
    "# get options historical example\n",
    "\n",
    "rs.options.get_option_historicals('AAPL',\n",
    "                                  '2020-07-17',\n",
    "                                  '350',\n",
    "                                  'put',\n",
    "                                  interval='5minute',\n",
    "                                  span='week',\n",
    "                                  bounds='regular')"
   ]
  },
  {
   "cell_type": "code",
   "execution_count": null,
   "metadata": {},
   "outputs": [],
   "source": [
    "# get stock fundamentals\n",
    "\n",
    "rs.stocks.get_fundamentals(inputSymbols, info=None)"
   ]
  },
  {
   "cell_type": "code",
   "execution_count": null,
   "metadata": {},
   "outputs": [],
   "source": [
    "# get stock fundamentals for multiple tickers at once example \n",
    "\n",
    "rs.stocks.get_fundamentals([\"AAPL,\"AMZN\",\"GOOGL\"])"
   ]
  },
  {
   "cell_type": "code",
   "execution_count": null,
   "metadata": {},
   "outputs": [],
   "source": [
    "# get Apple's dividend example\n",
    "\n",
    "dividend = float(rs.stocks.get_fundamentals(\"AAPL\", info='dividend_yield')[0])"
   ]
  },
  {
   "cell_type": "code",
   "execution_count": null,
   "metadata": {},
   "outputs": [],
   "source": [
    "# get options chain for a ticker example\n",
    "\n",
    "rs.options.get_chains(\"AAPL\", info='expiration_dates')"
   ]
  },
  {
   "cell_type": "code",
   "execution_count": null,
   "metadata": {},
   "outputs": [],
   "source": [
    "# find tradeable options example\n",
    "\n",
    "rs.options.find_tradable_options('AAPL', \n",
    "                                 expirationDate=None,\n",
    "                                 strikePrice=400,\n",
    "                                 optionType='call')"
   ]
  },
  {
   "cell_type": "code",
   "execution_count": null,
   "metadata": {},
   "outputs": [],
   "source": [
    "# export completed stock orders to csv example\n",
    "\n",
    "rs.export.export_completed_stock_orders(\"order_history\",\n",
    "                                        \"stocks_monday\")"
   ]
  },
  {
   "cell_type": "code",
   "execution_count": null,
   "metadata": {},
   "outputs": [],
   "source": []
  }
 ],
 "metadata": {
  "kernelspec": {
   "display_name": "deeplearning",
   "language": "python",
   "name": "deeplearning"
  },
  "language_info": {
   "codemirror_mode": {
    "name": "ipython",
    "version": 3
   },
   "file_extension": ".py",
   "mimetype": "text/x-python",
   "name": "python",
   "nbconvert_exporter": "python",
   "pygments_lexer": "ipython3",
   "version": "3.6.7"
  }
 },
 "nbformat": 4,
 "nbformat_minor": 2
}
